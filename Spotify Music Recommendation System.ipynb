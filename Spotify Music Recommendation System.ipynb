{
 "cells": [
  {
   "cell_type": "markdown",
   "id": "09c76c43",
   "metadata": {},
   "source": [
    "# Spotify Music Recommendation System Using Python"
   ]
  },
  {
   "cell_type": "raw",
   "id": "bfdfbd6f",
   "metadata": {},
   "source": [
    "Combine Client ID and Secret: Concatenate the application's Client ID and Client Secret, separated by a colon.\n",
    "\n",
    "Base64 Encode Credentials: Encode the combined string in Base64 format. This is a security requirement for transmitting credentials.\n",
    "\n",
    "Request Access Token: Make a POST request to the Spotify token API endpoint, including the Base64-encoded credentials in the Authorization header and specifying the grant type as 'client_credentials'.\n",
    "\n",
    "Retrieve Token: On successful authentication, the API responds with an access token. This token is then used for subsequent API requests."
   ]
  },
  {
   "cell_type": "code",
   "execution_count": 57,
   "id": "8dbb0752",
   "metadata": {},
   "outputs": [],
   "source": [
    "import requests\n",
    "import base64"
   ]
  },
  {
   "cell_type": "code",
   "execution_count": 58,
   "id": "610324c9",
   "metadata": {},
   "outputs": [],
   "source": [
    "CLIENT_ID = '8388d4f880c642f3ad3a193a115497bc'\n",
    "CLIENT_SECRET = '0118ab51d2e04f898b88fe0ed6e1bb89'\n",
    "\n",
    "# Base64 encode the client ID and client secret\n",
    "client_credentials = f\"{CLIENT_ID}:{CLIENT_SECRET}\"\n",
    "client_credentials_base64 = base64.b64encode(client_credentials.encode())\n"
   ]
  },
  {
   "cell_type": "code",
   "execution_count": 38,
   "id": "a3e80a73",
   "metadata": {},
   "outputs": [
    {
     "name": "stdout",
     "output_type": "stream",
     "text": [
      "Access token obtained successfully.\n"
     ]
    }
   ],
   "source": [
    "# Request the access token\n",
    "token_url = 'https://accounts.spotify.com/api/token'\n",
    "headers = {\n",
    "    'Authorization': f'Basic {client_credentials_base64.decode()}'\n",
    "}\n",
    "data = {\n",
    "    'grant_type': 'client_credentials'\n",
    "}\n",
    "response = requests.post(token_url, data=data, headers=headers)\n",
    "\n",
    "if response.status_code == 200:\n",
    "    access_token = response.json()['access_token']\n",
    "    print(\"Access token obtained successfully.\")\n",
    "else:\n",
    "    print(\"Error obtaining access token.\")\n",
    "    exit()"
   ]
  },
  {
   "cell_type": "markdown",
   "id": "b6eb764d",
   "metadata": {},
   "source": [
    "To fetch music data from any Spotify playlist, you can utilize the Spotipy library, a convenient Python wrapper for accessing Spotify's web API. Install it on your system by running the following command in your command prompt or terminal:"
   ]
  },
  {
   "cell_type": "code",
   "execution_count": 59,
   "id": "344f63d6",
   "metadata": {},
   "outputs": [
    {
     "name": "stdout",
     "output_type": "stream",
     "text": [
      "Requirement already satisfied: spotipy in ./anaconda3/lib/python3.11/site-packages (2.23.0)\n",
      "Requirement already satisfied: redis>=3.5.3 in ./anaconda3/lib/python3.11/site-packages (from spotipy) (5.0.1)\n",
      "Requirement already satisfied: requests>=2.25.0 in ./anaconda3/lib/python3.11/site-packages (from spotipy) (2.31.0)\n",
      "Requirement already satisfied: six>=1.15.0 in ./anaconda3/lib/python3.11/site-packages (from spotipy) (1.16.0)\n",
      "Requirement already satisfied: urllib3>=1.26.0 in ./anaconda3/lib/python3.11/site-packages (from spotipy) (1.26.16)\n",
      "Requirement already satisfied: charset-normalizer<4,>=2 in ./anaconda3/lib/python3.11/site-packages (from requests>=2.25.0->spotipy) (2.0.4)\n",
      "Requirement already satisfied: idna<4,>=2.5 in ./anaconda3/lib/python3.11/site-packages (from requests>=2.25.0->spotipy) (3.4)\n",
      "Requirement already satisfied: certifi>=2017.4.17 in ./anaconda3/lib/python3.11/site-packages (from requests>=2.25.0->spotipy) (2023.7.22)\n",
      "Note: you may need to restart the kernel to use updated packages.\n"
     ]
    }
   ],
   "source": [
    "pip install spotipy"
   ]
  },
  {
   "cell_type": "markdown",
   "id": "335f7793",
   "metadata": {},
   "source": [
    "This Python function, get_trending_playlist_data, uses the Spotipy library to retrieve detailed information from a specified Spotify playlist. \n",
    "\n",
    "It authenticates using an access_token and fetches track details like ID, name, artists, and album data using sp.playlist_tracks. \n",
    "\n",
    "The function compiles track attributes and audio features such as danceability, energy, and tempo into a music_data list.\n",
    "\n",
    "This data is then organized into a pandas DataFrame, providing a structured, tabular view for analysis. The DataFrame format makes it easier to manipulate and explore the musical characteristics of each track."
   ]
  },
  {
   "cell_type": "code",
   "execution_count": 60,
   "id": "ebc379e9",
   "metadata": {},
   "outputs": [],
   "source": [
    "import pandas as pd\n",
    "import spotipy\n",
    "from spotipy.oauth2 import SpotifyOAuth\n",
    "\n",
    "def get_trending_playlist_data(playlist_id, access_token):\n",
    "    # Set up Spotipy with the access token\n",
    "    sp = spotipy.Spotify(auth=access_token)\n",
    "\n",
    "    # Get the tracks from the playlist\n",
    "    playlist_tracks = sp.playlist_tracks(playlist_id, fields='items(track(id, name, artists, album(id, name)))')\n",
    "\n",
    "    # Extract relevant information and store in a list of dictionaries\n",
    "    music_data = []\n",
    "    for track_info in playlist_tracks['items']:\n",
    "        track = track_info['track']\n",
    "        track_name = track['name']\n",
    "        artists = ', '.join([artist['name'] for artist in track['artists']])\n",
    "        album_name = track['album']['name']\n",
    "        album_id = track['album']['id']\n",
    "        track_id = track['id']\n",
    "\n",
    "        # Get audio features for the track\n",
    "        audio_features = sp.audio_features(track_id)[0] if track_id != 'Not available' else None\n",
    "\n",
    "        # Get release date of the album\n",
    "        try:\n",
    "            album_info = sp.album(album_id) if album_id != 'Not available' else None\n",
    "            release_date = album_info['release_date'] if album_info else None\n",
    "        except:\n",
    "            release_date = None\n",
    "\n",
    "        # Get popularity of the track\n",
    "        try:\n",
    "            track_info = sp.track(track_id) if track_id != 'Not available' else None\n",
    "            popularity = track_info['popularity'] if track_info else None\n",
    "        except:\n",
    "            popularity = None\n",
    "\n",
    "        # Add additional track information to the track data\n",
    "        track_data = {\n",
    "            'Track Name': track_name,\n",
    "            'Artists': artists,\n",
    "            'Album Name': album_name,\n",
    "            'Album ID': album_id,\n",
    "            'Track ID': track_id,\n",
    "            'Popularity': popularity,\n",
    "            'Release Date': release_date,\n",
    "            'Duration (ms)': audio_features['duration_ms'] if audio_features else None,\n",
    "            'Explicit': track_info.get('explicit', None),\n",
    "            'External URLs': track_info.get('external_urls', {}).get('spotify', None),\n",
    "            'Danceability': audio_features['danceability'] if audio_features else None,\n",
    "            'Energy': audio_features['energy'] if audio_features else None,\n",
    "            'Key': audio_features['key'] if audio_features else None,\n",
    "            'Loudness': audio_features['loudness'] if audio_features else None,\n",
    "            'Mode': audio_features['mode'] if audio_features else None,\n",
    "            'Speechiness': audio_features['speechiness'] if audio_features else None,\n",
    "            'Acousticness': audio_features['acousticness'] if audio_features else None,\n",
    "            'Instrumentalness': audio_features['instrumentalness'] if audio_features else None,\n",
    "            'Liveness': audio_features['liveness'] if audio_features else None,\n",
    "            'Valence': audio_features['valence'] if audio_features else None,\n",
    "            'Tempo': audio_features['tempo'] if audio_features else None,\n",
    "            # Add more attributes as needed\n",
    "        }\n",
    "\n",
    "        music_data.append(track_data)\n",
    "\n",
    "    # Create a pandas DataFrame from the list of dictionaries\n",
    "    df = pd.DataFrame(music_data)\n",
    "\n",
    "    return df"
   ]
  },
  {
   "cell_type": "markdown",
   "id": "2b6b63cf",
   "metadata": {},
   "source": [
    "A specific Spotify playlist, identified by the playlist_id '37i9dQZF1DX76Wlfdnj7AP', is targeted for data extraction. The function get_trending_playlist_data is called with this playlist_id and an access_token to authenticate the request. This function fetches detailed information about the tracks in the specified playlist. The resulting data is stored in a pandas DataFrame, music_df, which is then printed to display the collected information in a structured tabular format. This DataFrame includes track details, artists, albums, audio features, and more, facilitating analysis or further processing."
   ]
  },
  {
   "cell_type": "code",
   "execution_count": 61,
   "id": "a4211771",
   "metadata": {},
   "outputs": [
    {
     "name": "stdout",
     "output_type": "stream",
     "text": [
      "                          Track Name                       Artists  \\\n",
      "0                              Prada   cassö, RAYE, D-Block Europe   \n",
      "1                           fukumean                         Gunna   \n",
      "2                 IDGAF (feat. Yeat)                   Drake, Yeat   \n",
      "3                    I'm Good (Blue)      David Guetta, Bebe Rexha   \n",
      "4   Vois sur ton chemin - Techno Mix                       BENNETT   \n",
      "..                               ...                           ...   \n",
      "95                       Motley Crew                   Post Malone   \n",
      "96      Kernkraft 400 (A Better Day)                    Topic, A7S   \n",
      "97                          Remember      Becky Hill, David Guetta   \n",
      "98                     All By Myself  Alok, Sigala, Ellie Goulding   \n",
      "99             Rainfall (Praise You)                     Tom Santa   \n",
      "\n",
      "                          Album Name                Album ID  \\\n",
      "0                              Prada  5MU0RmBSpoSxOPYBfcobDc   \n",
      "1                   a Gift & a Curse  5qmZefgh78fN3jsyPPlvuw   \n",
      "2                   For All The Dogs  4czdORdCWP9umpbhFXK2fW   \n",
      "3                    I'm Good (Blue)  7M842DMhYVALrXsw3ty7B3   \n",
      "4   Vois sur ton chemin (Techno Mix)  79Cyc8GRWnLyjdJSMyJ0dB   \n",
      "..                               ...                     ...   \n",
      "95                       Motley Crew  4tokbQaFXRrq8keVGBD9vb   \n",
      "96      Kernkraft 400 (A Better Day)  2NIChqkijGw4r4Dqfmg0A3   \n",
      "97                          Remember  6DHfD3rZapWFmEKX1FNNZF   \n",
      "98                     All By Myself  3lAmnw0gNntYuTltwETnSn   \n",
      "99             Rainfall (Praise You)  4VanY5i4E59Mhz52qznJ95   \n",
      "\n",
      "                  Track ID  Popularity Release Date  Duration (ms)  Explicit  \\\n",
      "0   59NraMJsLaMCVtwXTSia8i          90   2023-08-11         132359      True   \n",
      "1   4rXLjWdF2ZZpXCVTfWcshS          90   2023-06-16         125040      True   \n",
      "2   2YSzYUF3jWqb9YP9VXmpjE          89   2023-10-06         260111      True   \n",
      "3   4uUG5RXrOk84mYEfFvj3cK          89   2022-08-26         175238      True   \n",
      "4   31nfdEooLEq7dn3UMcIeB5          87   2023-08-04         178156     False   \n",
      "..                     ...         ...          ...            ...       ...   \n",
      "95  40uMIn2zJLAQhNXghRjBed          73   2021-07-09         184213      True   \n",
      "96  3kcKlOkQQEPVwxwljbGJ5p          73   2022-06-17         165800     False   \n",
      "97  4laAKIq9ZxBCwf99rauPYb          73   2021-06-18         160766     False   \n",
      "98  5Hp4xFihdOE2dmDzxWcBFb          73   2022-10-07         171778     False   \n",
      "99  1M8t1j3Kv2qp97bdq5q4Vl          73   2022-02-18         166570     False   \n",
      "\n",
      "                                        External URLs  ...  Energy  Key  \\\n",
      "0   https://open.spotify.com/track/59NraMJsLaMCVtw...  ...   0.717    8   \n",
      "1   https://open.spotify.com/track/4rXLjWdF2ZZpXCV...  ...   0.622    1   \n",
      "2   https://open.spotify.com/track/2YSzYUF3jWqb9YP...  ...   0.670    8   \n",
      "3   https://open.spotify.com/track/4uUG5RXrOk84mYE...  ...   0.965    7   \n",
      "4   https://open.spotify.com/track/31nfdEooLEq7dn3...  ...   0.824    2   \n",
      "..                                                ...  ...     ...  ...   \n",
      "95  https://open.spotify.com/track/40uMIn2zJLAQhNX...  ...   0.631    3   \n",
      "96  https://open.spotify.com/track/3kcKlOkQQEPVwxw...  ...   0.727   11   \n",
      "97  https://open.spotify.com/track/4laAKIq9ZxBCwf9...  ...   0.862    8   \n",
      "98  https://open.spotify.com/track/5Hp4xFihdOE2dmD...  ...   0.848    0   \n",
      "99  https://open.spotify.com/track/1M8t1j3Kv2qp97b...  ...   0.862    5   \n",
      "\n",
      "    Loudness  Mode  Speechiness  Acousticness  Instrumentalness  Liveness  \\\n",
      "0     -5.804     1       0.0375       0.00100          0.000002    0.1130   \n",
      "1     -6.747     0       0.0903       0.11900          0.000000    0.2850   \n",
      "2     -8.399     1       0.2710       0.04640          0.000089    0.2050   \n",
      "3     -3.673     0       0.0343       0.00383          0.000007    0.3710   \n",
      "4     -3.394     0       0.0470       0.09080          0.071100    0.1190   \n",
      "..       ...   ...          ...           ...               ...       ...   \n",
      "95    -3.818     0       0.0786       0.09040          0.000004    0.0998   \n",
      "96    -5.570     0       0.0562       0.18400          0.000020    0.3090   \n",
      "97    -2.903     1       0.0370       0.04100          0.000000    0.0907   \n",
      "98    -4.338     0       0.0346       0.09320          0.000008    0.2410   \n",
      "99    -5.464     0       0.0606       0.14000          0.009200    0.2520   \n",
      "\n",
      "    Valence    Tempo  \n",
      "0     0.422  141.904  \n",
      "1     0.220  130.001  \n",
      "2     0.138  136.952  \n",
      "3     0.304  128.040  \n",
      "4     0.371  137.959  \n",
      "..      ...      ...  \n",
      "95    0.288  129.915  \n",
      "96    0.400  125.975  \n",
      "97    0.354  123.849  \n",
      "98    0.773  123.041  \n",
      "99    0.509  128.039  \n",
      "\n",
      "[100 rows x 21 columns]\n"
     ]
    }
   ],
   "source": [
    "playlist_id = '37i9dQZF1DX76Wlfdnj7AP'\n",
    "\n",
    "# Call the function to get the music data from the playlist and store it in a DataFrame\n",
    "music_df = get_trending_playlist_data(playlist_id, access_token)\n",
    "\n",
    "# Display the DataFrame\n",
    "print(music_df)"
   ]
  },
  {
   "cell_type": "markdown",
   "id": "b786db06",
   "metadata": {},
   "source": [
    "Checking if the data has any Null Values or not:"
   ]
  },
  {
   "cell_type": "code",
   "execution_count": 62,
   "id": "96fbbf8a",
   "metadata": {},
   "outputs": [
    {
     "name": "stdout",
     "output_type": "stream",
     "text": [
      "Track Name          0\n",
      "Artists             0\n",
      "Album Name          0\n",
      "Album ID            0\n",
      "Track ID            0\n",
      "Popularity          0\n",
      "Release Date        0\n",
      "Duration (ms)       0\n",
      "Explicit            0\n",
      "External URLs       0\n",
      "Danceability        0\n",
      "Energy              0\n",
      "Key                 0\n",
      "Loudness            0\n",
      "Mode                0\n",
      "Speechiness         0\n",
      "Acousticness        0\n",
      "Instrumentalness    0\n",
      "Liveness            0\n",
      "Valence             0\n",
      "Tempo               0\n",
      "dtype: int64\n"
     ]
    }
   ],
   "source": [
    "print(music_df.isnull().sum())"
   ]
  },
  {
   "cell_type": "markdown",
   "id": "42226553",
   "metadata": {},
   "source": [
    "Let’s import the necessary Python libraries now:"
   ]
  },
  {
   "cell_type": "code",
   "execution_count": 63,
   "id": "a2c6e0d8",
   "metadata": {},
   "outputs": [],
   "source": [
    "import pandas as pd\n",
    "import numpy as np\n",
    "from sklearn.model_selection import train_test_split\n",
    "from sklearn.preprocessing import MinMaxScaler\n",
    "from datetime import datetime\n",
    "from sklearn.metrics.pairwise import cosine_similarity\n",
    "\n",
    "data = music_df"
   ]
  },
  {
   "cell_type": "markdown",
   "id": "70bb9b64",
   "metadata": {},
   "source": [
    "Developing a function that strategically increases the weight of recently released songs in our recommendation algorithm. This function will adjust the recommendation scores based on the release date, giving newer songs a higher prominence. This method is crucial for maintaining an up-to-date and engaging user experience within our music recommendation system."
   ]
  },
  {
   "cell_type": "raw",
   "id": "95fdc8d4",
   "metadata": {},
   "source": [
    "The calculate_weighted_popularity function computes a weighted score for songs based on their release date. It converts the release date to a datetime object and calculates the time difference between the release date and the current date. The weight is inversely proportional to the age of the song, with newer songs receiving higher weights. This approach ensures recent releases are prioritized in music recommendations, enhancing the system's relevance and appeal."
   ]
  },
  {
   "cell_type": "code",
   "execution_count": 64,
   "id": "6cf8bb12",
   "metadata": {},
   "outputs": [],
   "source": [
    "# Function to calculate weighted popularity scores based on release date\n",
    "def calculate_weighted_popularity(release_date):\n",
    "    # Convert the release date to datetime object\n",
    "    release_date = datetime.strptime(release_date, '%Y-%m-%d')\n",
    "\n",
    "    # Calculate the time span between release date and today's date\n",
    "    time_span = datetime.now() - release_date\n",
    "\n",
    "    # Calculate the weighted popularity score based on time span (e.g., more recent releases have higher weight)\n",
    "    weight = 1 / (time_span.days + 1)\n",
    "    return weight"
   ]
  },
  {
   "cell_type": "markdown",
   "id": "4417714b",
   "metadata": {},
   "source": [
    "Let’s normalize the music features"
   ]
  },
  {
   "cell_type": "code",
   "execution_count": 65,
   "id": "5bc3af33",
   "metadata": {},
   "outputs": [],
   "source": [
    "# Normalize the music features using Min-Max scaling\n",
    "scaler = MinMaxScaler()\n",
    "music_features = music_df[['Danceability', 'Energy', 'Key', \n",
    "                           'Loudness', 'Mode', 'Speechiness', 'Acousticness',\n",
    "                           'Instrumentalness', 'Liveness', 'Valence', 'Tempo']].values\n",
    "music_features_scaled = scaler.fit_transform(music_features)"
   ]
  },
  {
   "cell_type": "markdown",
   "id": "565fcb39",
   "metadata": {},
   "source": [
    "The function content_based_recommendations generates music recommendations based on the features of a given input song. It first checks if the input song exists in the music DataFrame, music_df. If the song is found, it calculates similarity scores with other songs using cosine similarity on scaled music features. The function then identifies the indices of the most similar songs, based on these scores. Finally, it returns the details (like track name, artist, album, release date, and popularity) of the top recommended songs, up to a specified number (num_recommendations). This method ensures recommendations are closely aligned with the musical characteristics of the input song."
   ]
  },
  {
   "cell_type": "code",
   "execution_count": 66,
   "id": "ab26782a",
   "metadata": {},
   "outputs": [],
   "source": [
    "# a function to get content-based recommendations based on music features\n",
    "def content_based_recommendations(input_song_name, num_recommendations=5):\n",
    "    if input_song_name not in music_df['Track Name'].values:\n",
    "        print(f\"'{input_song_name}' not found in the dataset. Please enter a valid song name.\")\n",
    "        return\n",
    "\n",
    "    # Get the index of the input song in the music DataFrame\n",
    "    input_song_index = music_df[music_df['Track Name'] == input_song_name].index[0]\n",
    "\n",
    "    # Calculate the similarity scores based on music features (cosine similarity)\n",
    "    similarity_scores = cosine_similarity([music_features_scaled[input_song_index]], music_features_scaled)\n",
    "\n",
    "    # Get the indices of the most similar songs\n",
    "    similar_song_indices = similarity_scores.argsort()[0][::-1][1:num_recommendations + 1]\n",
    "\n",
    "    # Get the names of the most similar songs based on content-based filtering\n",
    "    content_based_recommendations = music_df.iloc[similar_song_indices][['Track Name', 'Artists', 'Album Name', 'Release Date', 'Popularity']]\n",
    "\n",
    "    return content_based_recommendations"
   ]
  },
  {
   "cell_type": "markdown",
   "id": "7346ab9e",
   "metadata": {},
   "source": [
    "The hybrid_recommendations function blends content-based and popularity-based methods to suggest songs similar to a given input_song_name. It first fetches content-based recommendations and then calculates a weighted popularity score for the input song, considering its release date. The function merges these recommendations with the input song's weighted popularity into a new DataFrame. This DataFrame is sorted by the weighted popularity score, ensuring recommendations are both relevant and popular. Lastly, the input song is removed from the final recommendations to offer diverse options to the user."
   ]
  },
  {
   "cell_type": "code",
   "execution_count": 67,
   "id": "c4df5e0a",
   "metadata": {},
   "outputs": [],
   "source": [
    "import pandas as pd\n",
    "\n",
    "def hybrid_recommendations(input_song_name, num_recommendations=5):\n",
    "    if input_song_name not in music_df['Track Name'].values:\n",
    "        print(f\"'{input_song_name}' not found in the dataset. Please enter a valid song name.\")\n",
    "        return\n",
    "\n",
    "    # Get content-based recommendations\n",
    "    content_based_rec = content_based_recommendations(input_song_name, num_recommendations)\n",
    "\n",
    "    # Get the row for the input song\n",
    "    input_song_row = music_df[music_df['Track Name'] == input_song_name]\n",
    "\n",
    "    # Calculate the weighted popularity score\n",
    "    weighted_popularity_score = input_song_row['Popularity'].iloc[0] * calculate_weighted_popularity(input_song_row['Release Date'].iloc[0])\n",
    "\n",
    "    # Create a new DataFrame for the input song with the weighted popularity\n",
    "    input_song_df = input_song_row.copy()\n",
    "    input_song_df['Popularity'] = weighted_popularity_score\n",
    "\n",
    "    # Combine content-based and popularity-based recommendations\n",
    "    hybrid_recommendations_df = pd.concat([content_based_rec, input_song_df])\n",
    "\n",
    "    # Sort the hybrid recommendations based on weighted popularity score\n",
    "    hybrid_recommendations_df = hybrid_recommendations_df.sort_values(by='Popularity', ascending=False)\n",
    "\n",
    "    # Remove the input song from the recommendations\n",
    "    hybrid_recommendations_df = hybrid_recommendations_df[hybrid_recommendations_df['Track Name'] != input_song_name]\n",
    "\n",
    "    return hybrid_recommendations_df\n",
    "\n",
    "\n"
   ]
  },
  {
   "cell_type": "markdown",
   "id": "b1d83916",
   "metadata": {},
   "source": [
    "Test the final function to generate music recommendations:"
   ]
  },
  {
   "cell_type": "code",
   "execution_count": 68,
   "id": "25db6bd1",
   "metadata": {},
   "outputs": [
    {
     "name": "stdout",
     "output_type": "stream",
     "text": [
      "Hybrid recommended songs for 'I'm Good (Blue)':\n",
      "                    Track Name                                     Artists  \\\n",
      "7   FE!N (feat. Playboi Carti)                 Travis Scott, Playboi Carti   \n",
      "52                Call It Love                     Felix Jaehn, Ray Dalton   \n",
      "75                       REACT  Switch Disco, Ella Henderson, Robert Miles   \n",
      "83               Where You Are                          John Summit, Hayla   \n",
      "87                        BOTH                      Tiësto, 21 Savage, BIA   \n",
      "\n",
      "       Album Name Release Date  Popularity Album ID Track ID  Duration (ms)  \\\n",
      "7          UTOPIA   2023-07-28        87.0      NaN      NaN            NaN   \n",
      "52   Call It Love   2022-09-16        78.0      NaN      NaN            NaN   \n",
      "75          REACT   2023-01-13        76.0      NaN      NaN            NaN   \n",
      "83  Where You Are   2023-03-03        75.0      NaN      NaN            NaN   \n",
      "87           BOTH   2023-08-29        74.0      NaN      NaN            NaN   \n",
      "\n",
      "   Explicit External URLs  ...  Energy  Key  Loudness  Mode  Speechiness  \\\n",
      "7       NaN           NaN  ...     NaN  NaN       NaN   NaN          NaN   \n",
      "52      NaN           NaN  ...     NaN  NaN       NaN   NaN          NaN   \n",
      "75      NaN           NaN  ...     NaN  NaN       NaN   NaN          NaN   \n",
      "83      NaN           NaN  ...     NaN  NaN       NaN   NaN          NaN   \n",
      "87      NaN           NaN  ...     NaN  NaN       NaN   NaN          NaN   \n",
      "\n",
      "    Acousticness  Instrumentalness  Liveness  Valence  Tempo  \n",
      "7            NaN               NaN       NaN      NaN    NaN  \n",
      "52           NaN               NaN       NaN      NaN    NaN  \n",
      "75           NaN               NaN       NaN      NaN    NaN  \n",
      "83           NaN               NaN       NaN      NaN    NaN  \n",
      "87           NaN               NaN       NaN      NaN    NaN  \n",
      "\n",
      "[5 rows x 21 columns]\n"
     ]
    }
   ],
   "source": [
    "input_song_name = \"I'm Good (Blue)\"\n",
    "recommendations = hybrid_recommendations(input_song_name, num_recommendations=5)\n",
    "print(f\"Hybrid recommended songs for '{input_song_name}':\")\n",
    "print(recommendations)\n"
   ]
  },
  {
   "cell_type": "code",
   "execution_count": 50,
   "id": "2f20d62d",
   "metadata": {},
   "outputs": [
    {
     "name": "stdout",
     "output_type": "stream",
     "text": [
      "                          Track Name                       Artists  \\\n",
      "0                              Prada   cassö, RAYE, D-Block Europe   \n",
      "1                           fukumean                         Gunna   \n",
      "2                 IDGAF (feat. Yeat)                   Drake, Yeat   \n",
      "3                    I'm Good (Blue)      David Guetta, Bebe Rexha   \n",
      "4   Vois sur ton chemin - Techno Mix                       BENNETT   \n",
      "..                               ...                           ...   \n",
      "95                       Motley Crew                   Post Malone   \n",
      "96      Kernkraft 400 (A Better Day)                    Topic, A7S   \n",
      "97                          Remember      Becky Hill, David Guetta   \n",
      "98                     All By Myself  Alok, Sigala, Ellie Goulding   \n",
      "99             Rainfall (Praise You)                     Tom Santa   \n",
      "\n",
      "                          Album Name                Album ID  \\\n",
      "0                              Prada  5MU0RmBSpoSxOPYBfcobDc   \n",
      "1                   a Gift & a Curse  5qmZefgh78fN3jsyPPlvuw   \n",
      "2                   For All The Dogs  4czdORdCWP9umpbhFXK2fW   \n",
      "3                    I'm Good (Blue)  7M842DMhYVALrXsw3ty7B3   \n",
      "4   Vois sur ton chemin (Techno Mix)  79Cyc8GRWnLyjdJSMyJ0dB   \n",
      "..                               ...                     ...   \n",
      "95                       Motley Crew  4tokbQaFXRrq8keVGBD9vb   \n",
      "96      Kernkraft 400 (A Better Day)  2NIChqkijGw4r4Dqfmg0A3   \n",
      "97                          Remember  6DHfD3rZapWFmEKX1FNNZF   \n",
      "98                     All By Myself  3lAmnw0gNntYuTltwETnSn   \n",
      "99             Rainfall (Praise You)  4VanY5i4E59Mhz52qznJ95   \n",
      "\n",
      "                  Track ID  Popularity Release Date  Duration (ms)  Explicit  \\\n",
      "0   59NraMJsLaMCVtwXTSia8i          90   2023-08-11         132359      True   \n",
      "1   4rXLjWdF2ZZpXCVTfWcshS          90   2023-06-16         125040      True   \n",
      "2   2YSzYUF3jWqb9YP9VXmpjE          89   2023-10-06         260111      True   \n",
      "3   4uUG5RXrOk84mYEfFvj3cK          89   2022-08-26         175238      True   \n",
      "4   31nfdEooLEq7dn3UMcIeB5          87   2023-08-04         178156     False   \n",
      "..                     ...         ...          ...            ...       ...   \n",
      "95  40uMIn2zJLAQhNXghRjBed          73   2021-07-09         184213      True   \n",
      "96  3kcKlOkQQEPVwxwljbGJ5p          73   2022-06-17         165800     False   \n",
      "97  4laAKIq9ZxBCwf99rauPYb          73   2021-06-18         160766     False   \n",
      "98  5Hp4xFihdOE2dmDzxWcBFb          73   2022-10-07         171778     False   \n",
      "99  1M8t1j3Kv2qp97bdq5q4Vl          73   2022-02-18         166570     False   \n",
      "\n",
      "                                        External URLs  ...  Energy  Key  \\\n",
      "0   https://open.spotify.com/track/59NraMJsLaMCVtw...  ...   0.717    8   \n",
      "1   https://open.spotify.com/track/4rXLjWdF2ZZpXCV...  ...   0.622    1   \n",
      "2   https://open.spotify.com/track/2YSzYUF3jWqb9YP...  ...   0.670    8   \n",
      "3   https://open.spotify.com/track/4uUG5RXrOk84mYE...  ...   0.965    7   \n",
      "4   https://open.spotify.com/track/31nfdEooLEq7dn3...  ...   0.824    2   \n",
      "..                                                ...  ...     ...  ...   \n",
      "95  https://open.spotify.com/track/40uMIn2zJLAQhNX...  ...   0.631    3   \n",
      "96  https://open.spotify.com/track/3kcKlOkQQEPVwxw...  ...   0.727   11   \n",
      "97  https://open.spotify.com/track/4laAKIq9ZxBCwf9...  ...   0.862    8   \n",
      "98  https://open.spotify.com/track/5Hp4xFihdOE2dmD...  ...   0.848    0   \n",
      "99  https://open.spotify.com/track/1M8t1j3Kv2qp97b...  ...   0.862    5   \n",
      "\n",
      "    Loudness  Mode  Speechiness  Acousticness  Instrumentalness  Liveness  \\\n",
      "0     -5.804     1       0.0375       0.00100          0.000002    0.1130   \n",
      "1     -6.747     0       0.0903       0.11900          0.000000    0.2850   \n",
      "2     -8.399     1       0.2710       0.04640          0.000089    0.2050   \n",
      "3     -3.673     0       0.0343       0.00383          0.000007    0.3710   \n",
      "4     -3.394     0       0.0470       0.09080          0.071100    0.1190   \n",
      "..       ...   ...          ...           ...               ...       ...   \n",
      "95    -3.818     0       0.0786       0.09040          0.000004    0.0998   \n",
      "96    -5.570     0       0.0562       0.18400          0.000020    0.3090   \n",
      "97    -2.903     1       0.0370       0.04100          0.000000    0.0907   \n",
      "98    -4.338     0       0.0346       0.09320          0.000008    0.2410   \n",
      "99    -5.464     0       0.0606       0.14000          0.009200    0.2520   \n",
      "\n",
      "    Valence    Tempo  \n",
      "0     0.422  141.904  \n",
      "1     0.220  130.001  \n",
      "2     0.138  136.952  \n",
      "3     0.304  128.040  \n",
      "4     0.371  137.959  \n",
      "..      ...      ...  \n",
      "95    0.288  129.915  \n",
      "96    0.400  125.975  \n",
      "97    0.354  123.849  \n",
      "98    0.773  123.041  \n",
      "99    0.509  128.039  \n",
      "\n",
      "[100 rows x 21 columns]\n"
     ]
    }
   ],
   "source": [
    "data = music_df \n",
    "print(data)"
   ]
  },
  {
   "cell_type": "code",
   "execution_count": 52,
   "id": "4b9853e8",
   "metadata": {},
   "outputs": [
    {
     "name": "stdout",
     "output_type": "stream",
     "text": [
      "Hybrid recommended songs for 'IDGAF (feat. Yeat)':\n",
      "                           Track Name                          Artists  \\\n",
      "15                         SICKO MODE                     Travis Scott   \n",
      "33  Moth To A Flame (with The Weeknd)  Swedish House Mafia, The Weeknd   \n",
      "42                  PUFFIN ON ZOOTIEZ                           Future   \n",
      "80                                Lie                               NF   \n",
      "92                  MONEY ON THE DASH              Elley Duhé, Whethan   \n",
      "\n",
      "           Album Name Release Date  Popularity Album ID Track ID  \\\n",
      "15         ASTROWORLD   2018-08-03        84.0      NaN      NaN   \n",
      "33     Paradise Again   2022-04-15        80.0      NaN      NaN   \n",
      "42  I NEVER LIKED YOU   2022-04-29        79.0      NaN      NaN   \n",
      "80         Perception   2017-10-06        75.0      NaN      NaN   \n",
      "92  MONEY ON THE DASH   2023-01-20        73.0      NaN      NaN   \n",
      "\n",
      "    Duration (ms) Explicit External URLs  ...  Energy  Key  Loudness  Mode  \\\n",
      "15            NaN      NaN           NaN  ...     NaN  NaN       NaN   NaN   \n",
      "33            NaN      NaN           NaN  ...     NaN  NaN       NaN   NaN   \n",
      "42            NaN      NaN           NaN  ...     NaN  NaN       NaN   NaN   \n",
      "80            NaN      NaN           NaN  ...     NaN  NaN       NaN   NaN   \n",
      "92            NaN      NaN           NaN  ...     NaN  NaN       NaN   NaN   \n",
      "\n",
      "    Speechiness  Acousticness  Instrumentalness  Liveness  Valence  Tempo  \n",
      "15          NaN           NaN               NaN       NaN      NaN    NaN  \n",
      "33          NaN           NaN               NaN       NaN      NaN    NaN  \n",
      "42          NaN           NaN               NaN       NaN      NaN    NaN  \n",
      "80          NaN           NaN               NaN       NaN      NaN    NaN  \n",
      "92          NaN           NaN               NaN       NaN      NaN    NaN  \n",
      "\n",
      "[5 rows x 21 columns]\n"
     ]
    }
   ],
   "source": [
    "input_song_name = \"IDGAF (feat. Yeat)\"\n",
    "recommendations = hybrid_recommendations(input_song_name, num_recommendations=5)\n",
    "print(f\"Hybrid recommended songs for '{input_song_name}':\")\n",
    "print(recommendations)\n"
   ]
  }
 ],
 "metadata": {
  "kernelspec": {
   "display_name": "Python 3 (ipykernel)",
   "language": "python",
   "name": "python3"
  },
  "language_info": {
   "codemirror_mode": {
    "name": "ipython",
    "version": 3
   },
   "file_extension": ".py",
   "mimetype": "text/x-python",
   "name": "python",
   "nbconvert_exporter": "python",
   "pygments_lexer": "ipython3",
   "version": "3.11.5"
  }
 },
 "nbformat": 4,
 "nbformat_minor": 5
}
